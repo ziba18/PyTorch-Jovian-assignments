{
  "cells": [
    {
      "cell_type": "markdown",
      "metadata": {
        "id": "view-in-github",
        "colab_type": "text"
      },
      "source": [
        "<a href=\"https://colab.research.google.com/github/ziba18/PyTorch-Jovian-assignments/blob/main/01_tensor_operations.ipynb\" target=\"_parent\"><img src=\"https://colab.research.google.com/assets/colab-badge.svg\" alt=\"Open In Colab\"/></a>"
      ]
    },
    {
      "cell_type": "code",
      "execution_count": null,
      "metadata": {
        "colab": {
          "base_uri": "https://localhost:8080/"
        },
        "id": "9Ax74ZF_dU2H",
        "outputId": "149687cf-07b4-412f-ecb4-b5ae619206c7"
      },
      "outputs": [
        {
          "output_type": "stream",
          "name": "stdout",
          "text": [
            "\u001b[?25l\r\u001b[K     |████▊                           | 10 kB 16.2 MB/s eta 0:00:01\r\u001b[K     |█████████▌                      | 20 kB 2.1 MB/s eta 0:00:01\r\u001b[K     |██████████████▎                 | 30 kB 3.1 MB/s eta 0:00:01\r\u001b[K     |███████████████████             | 40 kB 4.0 MB/s eta 0:00:01\r\u001b[K     |███████████████████████▉        | 51 kB 4.9 MB/s eta 0:00:01\r\u001b[K     |████████████████████████████▋   | 61 kB 5.8 MB/s eta 0:00:01\r\u001b[K     |████████████████████████████████| 68 kB 1.6 MB/s \n",
            "\u001b[?25h  Building wheel for uuid (setup.py) ... \u001b[?25l\u001b[?25hdone\n"
          ]
        }
      ],
      "source": [
        "# Jovian Commit Essentials\n",
        "# Please retain and execute this cell without modifying the contents for `jovian.commit` to work\n",
        "!pip install jovian --upgrade -q\n",
        "import jovian\n",
        "jovian.set_project('01-tensor-operations')\n",
        "jovian.set_colab_id('16xtjbVK8IQlCvg6BN3EJ6-kkleTDOa1N')"
      ]
    },
    {
      "cell_type": "markdown",
      "metadata": {
        "id": "prtLajk9dU2I"
      },
      "source": [
        "> ### Assignment Instructions (delete this cell before submission)\n",
        "> \n",
        "> The objective of this assignment is to develop a solid understanding of PyTorch tensors. In this assignment you will:\n",
        ">\n",
        "> 1. Pick 5 interesting functions related to PyTorch tensors by [reading the documentation](https://pytorch.org/docs/stable/torch.html), \n",
        "> 2. Edit this starter template notebook to illustrate their usage and publish your notebook to Jovian using `jovian.commit`. Make sure to add proper explanations too, not just code.\n",
        "> 3. Submit the link to your published notebook on Jovian here: https://jovian.ai/learn/deep-learning-with-pytorch-zero-to-gans/assignment/assignment-1-all-about-torch-tensor .\n",
        "> 4. (Optional) Write a blog post on [Medium](https://medium.com) to accompany and showcase your Jupyter notebook. [Embed cells from your notebook](https://medium.com/@aakashns/share-and-embed-jupyter-notebooks-online-with-jovian-ml-df709a03064e) wherever necessary.\n",
        "> 5. (Optional) [Share your work](https://jovian.ai/forum/t/pytorch-functions-and-tensor-operations/13790) with the community and exchange feedback with other participants\n",
        ">\n",
        ">\n",
        "> The recommended way to run this notebook is to click the \"Run\" button at the top of this page, and select \"Run on Colab\". Run `jovian.commit` regularly to save your progress.\n",
        "> \n",
        "> Try to give your notebook an interesting title e.g. \"All about PyTorch tensor operations\", \"5 PyTorch functions you didn't know you needed\", \"A beginner's guide to Autograd in PyToch\", \"Interesting ways to create PyTorch tensors\", \"Trigonometic functions in PyTorch\", \"How to use PyTorch tensors for Linear Algebra\" etc.\n",
        ">\n",
        "> **IMPORTANT NOTE**: Make sure to submit a Jovian notebook link e.g. https://jovian.ai/aakashns/01-tensor-operations . Colab links will not be accepted.\n",
        ">\n",
        "> Remove this cell containing instructions before making a submission or sharing your notebook, to make it more presentable.\n",
        ">\n",
        "\n"
      ]
    },
    {
      "cell_type": "markdown",
      "metadata": {
        "id": "9X_RqDyNdU2J"
      },
      "source": [
        "# 5 PyTorch functions you didn't know you needed\n",
        "\n",
        "An short introduction about PyTorch : \n",
        "and about the chosen functions. \n",
        "\n",
        "- movedim\n",
        "- TORCH.TENSOR.SCATTER_ADD_\n",
        "- t\n",
        "- tensor_split\n",
        "- initial_seed\n",
        "\n",
        "Before we begin, let's install and import PyTorch"
      ]
    },
    {
      "cell_type": "code",
      "execution_count": null,
      "metadata": {
        "id": "IfmcF9LDdU2K"
      },
      "outputs": [],
      "source": [
        "# Import torch and other required modules\n",
        "import torch"
      ]
    },
    {
      "cell_type": "markdown",
      "metadata": {
        "id": "-Dem3IredU2K"
      },
      "source": [
        "## Function 1 - movedim\n",
        "\n",
        "Moves the dimension(s) of input at the position(s) in source to the position(s) in destination.\n",
        "\n",
        "> \n",
        "\n",
        "\n",
        "\n",
        "\n",
        "torch.movedim(input, source, destination) → Tensor"
      ]
    },
    {
      "cell_type": "code",
      "execution_count": null,
      "metadata": {
        "colab": {
          "base_uri": "https://localhost:8080/"
        },
        "id": "dfST_K0ddU2K",
        "outputId": "a21cad93-af98-4f1f-dfc4-8b5f87feea65"
      },
      "outputs": [
        {
          "output_type": "stream",
          "name": "stdout",
          "text": [
            "tensor([[ 0.3876,  0.2354, -0.2845, -0.5469, -0.2393, -0.0101],\n",
            "        [-0.9966, -1.8653, -0.0044,  1.0036, -0.6072, -0.4742],\n",
            "        [ 1.4653, -0.9136,  0.1436, -0.7575,  0.7051, -1.0009]])\n",
            "<built-in method size of Tensor object at 0x7f6f7ac0a8f0>\n",
            "tensor([[ 0.3876,  0.2354, -0.2845, -0.5469, -0.2393, -0.0101],\n",
            "        [-0.9966, -1.8653, -0.0044,  1.0036, -0.6072, -0.4742],\n",
            "        [ 1.4653, -0.9136,  0.1436, -0.7575,  0.7051, -1.0009]])\n"
          ]
        }
      ],
      "source": [
        "# Example 1 - working\n",
        "\n",
        "mytensor = torch.randn(3,6)\n",
        "print(mytensor)\n",
        "\n",
        "t_md = torch.movedim(mytensor, -2, 0)\n",
        "print(t_md.size)\n",
        "print(t_md)"
      ]
    },
    {
      "cell_type": "markdown",
      "metadata": {
        "id": "h6KeRT5TdU2K"
      },
      "source": [
        "Explanation about example: The original positions of the dims is moved to the destination position. Therefore "
      ]
    },
    {
      "cell_type": "code",
      "execution_count": null,
      "metadata": {
        "colab": {
          "base_uri": "https://localhost:8080/"
        },
        "id": "Z3wjvuVldU2L",
        "outputId": "322c4f98-fe4c-492d-dca6-abd180a90403"
      },
      "outputs": [
        {
          "output_type": "execute_result",
          "data": {
            "text/plain": [
              "tensor([[1., 3.],\n",
              "        [2., 4.],\n",
              "        [6., 5.]])"
            ]
          },
          "metadata": {},
          "execution_count": 17
        }
      ],
      "source": [
        "# Example 2 - working\n",
        "\n",
        "mytensor = torch.tensor([[1, 2, 6], [3, 4.,5]])\n",
        "t_md = torch.movedim(mytensor, 0, 1)\n",
        "t_md"
      ]
    },
    {
      "cell_type": "markdown",
      "metadata": {
        "id": "1iGCCsmGdU2L"
      },
      "source": [
        "Explanation about example"
      ]
    },
    {
      "cell_type": "code",
      "execution_count": null,
      "metadata": {
        "id": "cxIzHyQCdU2L",
        "outputId": "1cffcd2d-4478-4027-cfa4-47f8abfd7a46",
        "colab": {
          "base_uri": "https://localhost:8080/",
          "height": 219
        }
      },
      "outputs": [
        {
          "output_type": "error",
          "ename": "ValueError",
          "evalue": "ignored",
          "traceback": [
            "\u001b[0;31m---------------------------------------------------------------------------\u001b[0m",
            "\u001b[0;31mValueError\u001b[0m                                Traceback (most recent call last)",
            "\u001b[0;32m<ipython-input-3-b182f0d53781>\u001b[0m in \u001b[0;36m<module>\u001b[0;34m\u001b[0m\n\u001b[1;32m      1\u001b[0m \u001b[0;31m# Example 3 - breaking (to illustrate when it breaks)\u001b[0m\u001b[0;34m\u001b[0m\u001b[0;34m\u001b[0m\u001b[0;34m\u001b[0m\u001b[0m\n\u001b[0;32m----> 2\u001b[0;31m \u001b[0mmytensor\u001b[0m \u001b[0;34m=\u001b[0m \u001b[0mtorch\u001b[0m\u001b[0;34m.\u001b[0m\u001b[0mtensor\u001b[0m\u001b[0;34m(\u001b[0m\u001b[0;34m[\u001b[0m\u001b[0;34m[\u001b[0m\u001b[0;36m1\u001b[0m\u001b[0;34m,\u001b[0m \u001b[0;36m2\u001b[0m\u001b[0;34m]\u001b[0m\u001b[0;34m,\u001b[0m \u001b[0;34m[\u001b[0m\u001b[0;36m3\u001b[0m\u001b[0;34m,\u001b[0m \u001b[0;36m4\u001b[0m\u001b[0;34m,\u001b[0m \u001b[0;36m5\u001b[0m\u001b[0;34m]\u001b[0m\u001b[0;34m]\u001b[0m\u001b[0;34m)\u001b[0m\u001b[0;34m\u001b[0m\u001b[0;34m\u001b[0m\u001b[0m\n\u001b[0m\u001b[1;32m      3\u001b[0m \u001b[0mt_md\u001b[0m \u001b[0;34m=\u001b[0m \u001b[0mtorch\u001b[0m\u001b[0;34m.\u001b[0m\u001b[0mmovedim\u001b[0m\u001b[0;34m(\u001b[0m\u001b[0mmytensor\u001b[0m\u001b[0;34m,\u001b[0m \u001b[0;36m0\u001b[0m\u001b[0;34m,\u001b[0m \u001b[0;36m5\u001b[0m\u001b[0;34m)\u001b[0m\u001b[0;34m\u001b[0m\u001b[0;34m\u001b[0m\u001b[0m\n\u001b[1;32m      4\u001b[0m \u001b[0mt_md\u001b[0m\u001b[0;34m\u001b[0m\u001b[0;34m\u001b[0m\u001b[0m\n",
            "\u001b[0;31mValueError\u001b[0m: expected sequence of length 2 at dim 1 (got 3)"
          ]
        }
      ],
      "source": [
        "# Example 3 - breaking (to illustrate when it breaks)\n",
        "mytensor = torch.tensor([[1, 2], [3, 4]])\n",
        "t_md = torch.movedim(mytensor, 0, 5)\n",
        "t_md"
      ]
    },
    {
      "cell_type": "markdown",
      "metadata": {
        "id": "zq-3BewpdU2L"
      },
      "source": [
        "Explanation about example"
      ]
    },
    {
      "cell_type": "markdown",
      "metadata": {
        "id": "O2VIE8nAdU2L"
      },
      "source": [
        "Closing comments about when to use this function"
      ]
    },
    {
      "cell_type": "markdown",
      "metadata": {
        "id": "MlZzpnF4dU2L"
      },
      "source": [
        "Let's save our work using Jovian before continuing."
      ]
    },
    {
      "cell_type": "code",
      "execution_count": null,
      "metadata": {
        "id": "WBJp6XHBdU2L"
      },
      "outputs": [],
      "source": [
        "!pip install jovian --upgrade --quiet"
      ]
    },
    {
      "cell_type": "code",
      "execution_count": null,
      "metadata": {
        "id": "NXSze3_odU2M"
      },
      "outputs": [],
      "source": [
        "import jovian"
      ]
    },
    {
      "cell_type": "code",
      "execution_count": null,
      "metadata": {
        "id": "affI8BMidU2M",
        "outputId": "4c8c4ef8-891b-40ac-b27f-9efa5789cbbd",
        "colab": {
          "base_uri": "https://localhost:8080/",
          "height": 122
        }
      },
      "outputs": [
        {
          "output_type": "stream",
          "name": "stdout",
          "text": [
            "[jovian] Detected Colab notebook...\u001b[0m\n",
            "[jovian] Please enter your API key ( from https://jovian.ai/ ):\u001b[0m\n",
            "API KEY: ··········\n",
            "[jovian] Uploading colab notebook to Jovian...\u001b[0m\n",
            "Committed successfully! https://jovian.ai/zamaniziba18/01-tensor-operations\n"
          ]
        },
        {
          "output_type": "execute_result",
          "data": {
            "text/plain": [
              "'https://jovian.ai/zamaniziba18/01-tensor-operations'"
            ],
            "application/vnd.google.colaboratory.intrinsic+json": {
              "type": "string"
            }
          },
          "metadata": {},
          "execution_count": 6
        }
      ],
      "source": [
        "jovian.commit(project='01-tensor-operations')"
      ]
    },
    {
      "cell_type": "markdown",
      "metadata": {
        "id": "Avf-YpR8dU2M"
      },
      "source": [
        "## Function 2 - TORCH.TENSOR.SCATTER_ADD_\n",
        "\n",
        "\n",
        "Adds all values from the tensor src into self at the indices specified in the index tensor in a similar fashion as scatter_(). \n",
        ">For each value in src, it is added to an index in self which is specified by its index in src for dimension != dim and by the corresponding value in index for dimension = dim.\n",
        "\n",
        "\n",
        "\n"
      ]
    },
    {
      "cell_type": "code",
      "execution_count": null,
      "metadata": {
        "id": "ZZJWImdYdU2M",
        "colab": {
          "base_uri": "https://localhost:8080/"
        },
        "outputId": "f945916e-b4ab-4062-ee39-2b5d7c9effa5"
      },
      "outputs": [
        {
          "output_type": "execute_result",
          "data": {
            "text/plain": [
              "tensor([2, 4])"
            ]
          },
          "metadata": {},
          "execution_count": 22
        }
      ],
      "source": [
        "# Example 1 - working\n",
        "\n",
        "myTensor = torch.tensor([[1,2], [3,4]])\n",
        "myTensor\n",
        "\n",
        "torch.select(myTensor, 1,1)"
      ]
    },
    {
      "cell_type": "markdown",
      "metadata": {
        "id": "S2zKUH-TdU2M"
      },
      "source": [
        "Explanation about example"
      ]
    },
    {
      "cell_type": "code",
      "execution_count": null,
      "metadata": {
        "id": "pyEwuDQudU2M",
        "colab": {
          "base_uri": "https://localhost:8080/"
        },
        "outputId": "30cc445d-9c65-4d2f-a58c-4e8f576d6a24"
      },
      "outputs": [
        {
          "output_type": "execute_result",
          "data": {
            "text/plain": [
              "tensor([-1.4105, -1.1902,  0.0382])"
            ]
          },
          "metadata": {},
          "execution_count": 24
        }
      ],
      "source": [
        "# Example 2 - working\n",
        "\n",
        "myTensor = torch.randn(3,6)\n",
        "myTensor\n",
        "\n",
        "torch.select(myTensor, 1,5)"
      ]
    },
    {
      "cell_type": "markdown",
      "metadata": {
        "id": "sz1vgtfZdU2M"
      },
      "source": [
        "Explanation about example"
      ]
    },
    {
      "cell_type": "code",
      "execution_count": null,
      "metadata": {
        "id": "FFCF6TZ6dU2M",
        "colab": {
          "base_uri": "https://localhost:8080/",
          "height": 201
        },
        "outputId": "c06f62b7-3c81-4017-e6a7-0c88c58dd236"
      },
      "outputs": [
        {
          "output_type": "error",
          "ename": "IndexError",
          "evalue": "ignored",
          "traceback": [
            "\u001b[0;31m---------------------------------------------------------------------------\u001b[0m",
            "\u001b[0;31mIndexError\u001b[0m                                Traceback (most recent call last)",
            "\u001b[0;32m<ipython-input-25-91f52adc4236>\u001b[0m in \u001b[0;36m<module>\u001b[0;34m\u001b[0m\n\u001b[1;32m      4\u001b[0m \u001b[0mmyTensor\u001b[0m\u001b[0;34m\u001b[0m\u001b[0;34m\u001b[0m\u001b[0m\n\u001b[1;32m      5\u001b[0m \u001b[0;34m\u001b[0m\u001b[0m\n\u001b[0;32m----> 6\u001b[0;31m \u001b[0mtorch\u001b[0m\u001b[0;34m.\u001b[0m\u001b[0mselect\u001b[0m\u001b[0;34m(\u001b[0m\u001b[0mmyTensor\u001b[0m\u001b[0;34m,\u001b[0m \u001b[0;36m1\u001b[0m\u001b[0;34m,\u001b[0m\u001b[0;36m2\u001b[0m\u001b[0;34m)\u001b[0m\u001b[0;34m\u001b[0m\u001b[0;34m\u001b[0m\u001b[0m\n\u001b[0m",
            "\u001b[0;31mIndexError\u001b[0m: select(): index 2 out of range for tensor of size [2, 2] at dimension 1"
          ]
        }
      ],
      "source": [
        "# Example 3 - breaking (to illustrate when it breaks)\n",
        "\n",
        "myTensor = torch.tensor([[1,2], [3,4]])\n",
        "myTensor\n",
        "\n",
        "torch.select(myTensor, 1,2)"
      ]
    },
    {
      "cell_type": "markdown",
      "metadata": {
        "id": "3vTPK81HdU2M"
      },
      "source": [
        "Explanation about example"
      ]
    },
    {
      "cell_type": "markdown",
      "metadata": {
        "id": "keIrvoYzdU2M"
      },
      "source": [
        "Closing comments about when to use this function"
      ]
    },
    {
      "cell_type": "code",
      "execution_count": null,
      "metadata": {
        "id": "qFURVL84dU2M",
        "outputId": "4e1fa092-2f1f-4742-dd16-691e7679a8e6",
        "colab": {
          "base_uri": "https://localhost:8080/",
          "height": 87
        }
      },
      "outputs": [
        {
          "output_type": "stream",
          "name": "stdout",
          "text": [
            "[jovian] Detected Colab notebook...\u001b[0m\n",
            "[jovian] Uploading colab notebook to Jovian...\u001b[0m\n",
            "Committed successfully! https://jovian.ai/zamaniziba18/01-tensor-operations\n"
          ]
        },
        {
          "output_type": "execute_result",
          "data": {
            "text/plain": [
              "'https://jovian.ai/zamaniziba18/01-tensor-operations'"
            ],
            "application/vnd.google.colaboratory.intrinsic+json": {
              "type": "string"
            }
          },
          "metadata": {},
          "execution_count": 26
        }
      ],
      "source": [
        "jovian.commit(project='01-tensor-operations')"
      ]
    },
    {
      "cell_type": "markdown",
      "metadata": {
        "id": "_2dkzOnpdU2M"
      },
      "source": [
        "## Function 3 - t\n",
        "\n",
        "Expects input to be <= 2-D tensor and transposes dimensions 0 and 1."
      ]
    },
    {
      "cell_type": "code",
      "execution_count": null,
      "metadata": {
        "id": "fW3ZTVFqdU2M",
        "colab": {
          "base_uri": "https://localhost:8080/"
        },
        "outputId": "2b718089-ef8c-42d3-e115-c0b161af2a35"
      },
      "outputs": [
        {
          "output_type": "stream",
          "name": "stdout",
          "text": [
            "tensor(-0.5021)\n",
            "tensor(-0.5021)\n"
          ]
        }
      ],
      "source": [
        "# Example 1 - working\n",
        "\n",
        "x = torch.randn(())\n",
        "print(x)\n",
        "print(torch.t(x))"
      ]
    },
    {
      "cell_type": "markdown",
      "metadata": {
        "id": "Ig_oZ9NLdU2M"
      },
      "source": [
        "0-D and 1-D tensors are returned as is."
      ]
    },
    {
      "cell_type": "code",
      "execution_count": null,
      "metadata": {
        "id": "9eg6MbbgdU2M",
        "colab": {
          "base_uri": "https://localhost:8080/"
        },
        "outputId": "e26f4824-9b2d-4dfe-a68a-d2bc8c147524"
      },
      "outputs": [
        {
          "output_type": "stream",
          "name": "stdout",
          "text": [
            "tensor([[ 0.4154,  0.5991, -0.7656],\n",
            "        [-1.7860,  0.7982, -0.8711]])\n",
            "tensor([[ 0.4154, -1.7860],\n",
            "        [ 0.5991,  0.7982],\n",
            "        [-0.7656, -0.8711]])\n"
          ]
        }
      ],
      "source": [
        "# Example 2 - working\n",
        "\n",
        "x = torch.randn((2,3))\n",
        "print(x)\n",
        "print(torch.t(x))"
      ]
    },
    {
      "cell_type": "markdown",
      "metadata": {
        "id": "bVNIgApCdU2M"
      },
      "source": [
        " When input is a 2-D tensor this is equivalent to transpose(input, 0, 1)."
      ]
    },
    {
      "cell_type": "code",
      "execution_count": null,
      "metadata": {
        "id": "_Wbk1xBVdU2N",
        "colab": {
          "base_uri": "https://localhost:8080/",
          "height": 323
        },
        "outputId": "4c01880a-f0c7-480c-c858-0446d6a04276"
      },
      "outputs": [
        {
          "output_type": "stream",
          "name": "stdout",
          "text": [
            "tensor([[[-0.9312,  1.1201,  1.7391, -0.5414,  1.7775],\n",
            "         [-1.2846, -0.0932,  1.2058, -0.3252,  0.0939],\n",
            "         [-0.4343, -1.0436, -0.0496,  0.0063, -1.2822]],\n",
            "\n",
            "        [[ 0.8994,  0.1366,  0.5491,  0.4846, -2.1185],\n",
            "         [-1.5202,  1.3152,  0.9631, -0.2550,  1.5508],\n",
            "         [ 0.2520, -0.6820, -1.5246, -0.5934,  0.8514]]])\n"
          ]
        },
        {
          "output_type": "error",
          "ename": "RuntimeError",
          "evalue": "ignored",
          "traceback": [
            "\u001b[0;31m---------------------------------------------------------------------------\u001b[0m",
            "\u001b[0;31mRuntimeError\u001b[0m                              Traceback (most recent call last)",
            "\u001b[0;32m<ipython-input-32-c2a900e0feb9>\u001b[0m in \u001b[0;36m<module>\u001b[0;34m\u001b[0m\n\u001b[1;32m      3\u001b[0m \u001b[0mx\u001b[0m \u001b[0;34m=\u001b[0m \u001b[0mtorch\u001b[0m\u001b[0;34m.\u001b[0m\u001b[0mrandn\u001b[0m\u001b[0;34m(\u001b[0m\u001b[0;34m(\u001b[0m\u001b[0;36m2\u001b[0m\u001b[0;34m,\u001b[0m\u001b[0;36m3\u001b[0m\u001b[0;34m,\u001b[0m\u001b[0;36m5\u001b[0m\u001b[0;34m)\u001b[0m\u001b[0;34m)\u001b[0m\u001b[0;34m\u001b[0m\u001b[0;34m\u001b[0m\u001b[0m\n\u001b[1;32m      4\u001b[0m \u001b[0mprint\u001b[0m\u001b[0;34m(\u001b[0m\u001b[0mx\u001b[0m\u001b[0;34m)\u001b[0m\u001b[0;34m\u001b[0m\u001b[0;34m\u001b[0m\u001b[0m\n\u001b[0;32m----> 5\u001b[0;31m \u001b[0mprint\u001b[0m\u001b[0;34m(\u001b[0m\u001b[0mtorch\u001b[0m\u001b[0;34m.\u001b[0m\u001b[0mt\u001b[0m\u001b[0;34m(\u001b[0m\u001b[0mx\u001b[0m\u001b[0;34m)\u001b[0m\u001b[0;34m)\u001b[0m\u001b[0;34m\u001b[0m\u001b[0;34m\u001b[0m\u001b[0m\n\u001b[0m",
            "\u001b[0;31mRuntimeError\u001b[0m: t() expects a tensor with <= 2 dimensions, but self is 3D"
          ]
        }
      ],
      "source": [
        "# Example 3 - breaking (to illustrate when it breaks)\n",
        "\n",
        "x = torch.randn((2,3,5))\n",
        "print(x)\n",
        "print(torch.t(x))"
      ]
    },
    {
      "cell_type": "markdown",
      "metadata": {
        "id": "V0Qij_L_dU2N"
      },
      "source": [
        "t() expects a tensor with <= 2 dimensions, but self is 3D"
      ]
    },
    {
      "cell_type": "markdown",
      "metadata": {
        "id": "z1yu3vPEdU2N"
      },
      "source": [
        "Closing comments about when to use this function"
      ]
    },
    {
      "cell_type": "code",
      "execution_count": null,
      "metadata": {
        "id": "CK0FpoPudU2N",
        "outputId": "8f38a93b-ea2d-4bc5-a380-a85d220993df",
        "colab": {
          "base_uri": "https://localhost:8080/",
          "height": 87
        }
      },
      "outputs": [
        {
          "output_type": "stream",
          "name": "stdout",
          "text": [
            "[jovian] Detected Colab notebook...\u001b[0m\n",
            "[jovian] Uploading colab notebook to Jovian...\u001b[0m\n",
            "Committed successfully! https://jovian.ai/zamaniziba18/01-tensor-operations\n"
          ]
        },
        {
          "output_type": "execute_result",
          "data": {
            "text/plain": [
              "'https://jovian.ai/zamaniziba18/01-tensor-operations'"
            ],
            "application/vnd.google.colaboratory.intrinsic+json": {
              "type": "string"
            }
          },
          "metadata": {},
          "execution_count": 33
        }
      ],
      "source": [
        "jovian.commit(project='01-tensor-operations')"
      ]
    },
    {
      "cell_type": "markdown",
      "metadata": {
        "id": "FRB0RltTdU2N"
      },
      "source": [
        "## Function 4 - tensor_split\n",
        "\n",
        "Splits a tensor into multiple sub-tensors, all of which are views of input, along dimension dim according to the indices or number of sections specified by indices_or_sections. This function is based on NumPy’s numpy.array_split().\n",
        "\n",
        ">input (Tensor) – the tensor to split\n",
        "\n",
        "indices_or_sections (Tensor, int or list or tuple of ints) –\n",
        "\n",
        "If indices_or_sections is an integer n or a zero dimensional long tensor with value n, input is split into n sections along dimension dim. If input is divisible by n along dimension dim, each section will be of equal size, input.size(dim) / n. If input is not divisible by n, the sizes of the first int(input.size(dim) % n) sections will have size int(input.size(dim) / n) + 1, and the rest will have size int(input.size(dim) / n).\n",
        "\n",
        "If indices_or_sections is a list or tuple of ints, or a one-dimensional long tensor, then input is split along dimension dim at each of the indices in the list, tuple or tensor. For instance, indices_or_sections=[2, 3] and dim=0 would result in the tensors input[:2], input[2:3], and input[3:].\n",
        "\n",
        "If indices_or_sections is a tensor, it must be a zero-dimensional or one-dimensional long tensor on the CPU.\n",
        "\n",
        "dim (int, optional) – dimension along which to split the tensor. Default: 0\n"
      ]
    },
    {
      "cell_type": "code",
      "execution_count": null,
      "metadata": {
        "id": "fM9qAe_JdU2N"
      },
      "outputs": [],
      "source": [
        "# Example 1 - working\n",
        "\n",
        "x = torch.arange(6)\n",
        "torch.tensor_split(x, 3)"
      ]
    },
    {
      "cell_type": "markdown",
      "metadata": {
        "id": "pG5wlhf2dU2N"
      },
      "source": [
        "Explanation about example"
      ]
    },
    {
      "cell_type": "code",
      "execution_count": null,
      "metadata": {
        "id": "7qAoHa1WdU2N"
      },
      "outputs": [],
      "source": [
        "# Example 2 - working"
      ]
    },
    {
      "cell_type": "markdown",
      "metadata": {
        "id": "Y2xMKaeHdU2N"
      },
      "source": [
        "Explanation about example"
      ]
    },
    {
      "cell_type": "code",
      "execution_count": null,
      "metadata": {
        "id": "xDx_4DKddU2N"
      },
      "outputs": [],
      "source": [
        "# Example 3 - breaking (to illustrate when it breaks)"
      ]
    },
    {
      "cell_type": "markdown",
      "metadata": {
        "id": "E4JfIrzwdU2N"
      },
      "source": [
        "Explanation about example"
      ]
    },
    {
      "cell_type": "markdown",
      "metadata": {
        "id": "HnAQxgeodU2N"
      },
      "source": [
        "Closing comments about when to use this function"
      ]
    },
    {
      "cell_type": "code",
      "execution_count": null,
      "metadata": {
        "id": "vYBfsODFdU2N",
        "outputId": "a54d9352-14e5-4151-d5e0-255850dd0437"
      },
      "outputs": [
        {
          "data": {
            "application/javascript": [
              "window.require && require([\"base/js/namespace\"],function(Jupyter){Jupyter.notebook.save_checkpoint()})"
            ],
            "text/plain": [
              "<IPython.core.display.Javascript object>"
            ]
          },
          "metadata": {},
          "output_type": "display_data"
        },
        {
          "name": "stdout",
          "output_type": "stream",
          "text": [
            "[jovian] Attempting to save notebook..\u001b[0m\n",
            "[jovian] Updating notebook \"aakashns/01-tensor-operations\" on https://jovian.ai/\u001b[0m\n",
            "[jovian] Uploading notebook..\u001b[0m\n",
            "[jovian] Capturing environment..\u001b[0m\n",
            "[jovian] Committed successfully! https://jovian.ai/aakashns/01-tensor-operations\u001b[0m\n"
          ]
        },
        {
          "data": {
            "text/plain": [
              "'https://jovian.ai/aakashns/01-tensor-operations'"
            ]
          },
          "execution_count": 18,
          "metadata": {},
          "output_type": "execute_result"
        }
      ],
      "source": [
        "jovian.commit(project='01-tensor-operations')"
      ]
    },
    {
      "cell_type": "markdown",
      "metadata": {
        "id": "QQQeJSsDdU2N"
      },
      "source": [
        "## Function 5 - initial_seed\n",
        "\n",
        "Returns the initial seed for generating random numbers as a Python long.\n",
        "\n",
        "Return type:\n",
        "int"
      ]
    },
    {
      "cell_type": "code",
      "execution_count": null,
      "metadata": {
        "id": "xKJfNEhPdU2N"
      },
      "outputs": [],
      "source": [
        "# Example 1 - working"
      ]
    },
    {
      "cell_type": "markdown",
      "metadata": {
        "id": "3i67nDEydU2N"
      },
      "source": [
        "Explanation about example"
      ]
    },
    {
      "cell_type": "code",
      "execution_count": null,
      "metadata": {
        "id": "43BWTYUmdU2N"
      },
      "outputs": [],
      "source": [
        "# Example 2 - working"
      ]
    },
    {
      "cell_type": "markdown",
      "metadata": {
        "id": "wpaVyT_UdU2N"
      },
      "source": [
        "Explanation about example"
      ]
    },
    {
      "cell_type": "code",
      "execution_count": null,
      "metadata": {
        "id": "116UAEEedU2N"
      },
      "outputs": [],
      "source": [
        "# Example 3 - breaking (to illustrate when it breaks)"
      ]
    },
    {
      "cell_type": "markdown",
      "metadata": {
        "id": "9bhPUT5BdU2N"
      },
      "source": [
        "Explanation about example"
      ]
    },
    {
      "cell_type": "markdown",
      "metadata": {
        "id": "c5gAP3z7dU2O"
      },
      "source": [
        "Closing comments about when to use this function"
      ]
    },
    {
      "cell_type": "code",
      "execution_count": null,
      "metadata": {
        "id": "DhtOyZCXdU2O",
        "outputId": "b67531e4-9812-4f59-e750-2320102613f4",
        "colab": {
          "base_uri": "https://localhost:8080/",
          "height": 87
        }
      },
      "outputs": [
        {
          "output_type": "stream",
          "name": "stdout",
          "text": [
            "[jovian] Detected Colab notebook...\u001b[0m\n",
            "[jovian] Uploading colab notebook to Jovian...\u001b[0m\n",
            "Committed successfully! https://jovian.ai/zamaniziba18/01-tensor-operations\n"
          ]
        },
        {
          "output_type": "execute_result",
          "data": {
            "text/plain": [
              "'https://jovian.ai/zamaniziba18/01-tensor-operations'"
            ],
            "application/vnd.google.colaboratory.intrinsic+json": {
              "type": "string"
            }
          },
          "metadata": {},
          "execution_count": 34
        }
      ],
      "source": [
        "jovian.commit(project='01-tensor-operations')"
      ]
    },
    {
      "cell_type": "markdown",
      "metadata": {
        "id": "jTsrJL9QdU2O"
      },
      "source": [
        "## Conclusion\n",
        "\n",
        "Summarize what was covered in this notebook, and where to go next"
      ]
    },
    {
      "cell_type": "markdown",
      "metadata": {
        "id": "0O7nwPHYdU2O"
      },
      "source": [
        "## Reference Links\n",
        "Provide links to your references and other interesting articles about tensors\n",
        "* Official documentation for tensor operations: https://pytorch.org/docs/stable/torch.html\n",
        "* https://www.w3schools.com/python/python_strings_slicing.asp\n",
        "* ..."
      ]
    },
    {
      "cell_type": "code",
      "execution_count": null,
      "metadata": {
        "id": "JDwXWG2KdU2O",
        "outputId": "72023cbb-480d-4b42-cc93-f044778da603"
      },
      "outputs": [
        {
          "data": {
            "application/javascript": [
              "window.require && require([\"base/js/namespace\"],function(Jupyter){Jupyter.notebook.save_checkpoint()})"
            ],
            "text/plain": [
              "<IPython.core.display.Javascript object>"
            ]
          },
          "metadata": {},
          "output_type": "display_data"
        },
        {
          "name": "stdout",
          "output_type": "stream",
          "text": [
            "[jovian] Attempting to save notebook..\u001b[0m\n"
          ]
        }
      ],
      "source": [
        "jovian.commit(project='01-tensor-operations')"
      ]
    },
    {
      "cell_type": "code",
      "execution_count": null,
      "metadata": {
        "id": "pytuuD2UdU2O"
      },
      "outputs": [],
      "source": []
    }
  ],
  "metadata": {
    "kernelspec": {
      "display_name": "Python 3",
      "language": "python",
      "name": "python3"
    },
    "language_info": {
      "codemirror_mode": {
        "name": "ipython",
        "version": 3
      },
      "file_extension": ".py",
      "mimetype": "text/x-python",
      "name": "python",
      "nbconvert_exporter": "python",
      "pygments_lexer": "ipython3",
      "version": "3.8.5"
    },
    "colab": {
      "provenance": [],
      "collapsed_sections": [],
      "include_colab_link": true
    }
  },
  "nbformat": 4,
  "nbformat_minor": 0
}